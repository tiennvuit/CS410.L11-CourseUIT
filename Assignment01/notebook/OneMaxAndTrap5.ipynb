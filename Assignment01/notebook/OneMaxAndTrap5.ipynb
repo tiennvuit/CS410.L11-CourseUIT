{
  "nbformat": 4,
  "nbformat_minor": 0,
  "metadata": {
    "colab": {
      "name": "Assigment 01. OneMaxProblem.ipynb",
      "provenance": [],
      "collapsed_sections": [],
      "authorship_tag": "ABX9TyPBKhH9BbmUyasno9IMMoZb",
      "include_colab_link": true
    },
    "kernelspec": {
      "name": "python3",
      "display_name": "Python 3"
    }
  },
  "cells": [
    {
      "cell_type": "markdown",
      "metadata": {
        "id": "view-in-github",
        "colab_type": "text"
      },
      "source": [
        "<a href=\"https://colab.research.google.com/github/tiennvuit/CS410.L11-CourseUIT/blob/master/Assignment01/OneMaxAndTrap5.ipynb\" target=\"_parent\"><img src=\"https://colab.research.google.com/assets/colab-badge.svg\" alt=\"Open In Colab\"/></a>"
      ]
    },
    {
      "cell_type": "markdown",
      "metadata": {
        "id": "dLI7E3WPMBrT"
      },
      "source": [
        "# <center>CS410.L11.KHTN - Neural Network and Evolutionary Algorithm</center>\n",
        "\n",
        "# <center>Assigment 01: OneMax and Trap5 Problem</center>"
      ]
    },
    {
      "cell_type": "markdown",
      "metadata": {
        "id": "Ii8ohVqKMqCe"
      },
      "source": [
        "## 1. Yêu cầu bài tập\n",
        "-----"
      ]
    },
    {
      "cell_type": "markdown",
      "metadata": {
        "id": "INbboY3BMt4X"
      },
      "source": [
        "- Thí nghiệm cài đặt thuật toán di truyền theo mô hình POPOP để giải hai bài toán OneMax và Trap5(Deceptive Trap 5 Tight Encoding)\n",
        "\n",
        "- Đánh giá hiệu quả của thuật toán và trình bày kết quả dưới dạng biểu đồ."
      ]
    },
    {
      "cell_type": "markdown",
      "metadata": {
        "id": "wOZQ-MIvSEps"
      },
      "source": [
        "<underline>Lưu ý</underline>:\n",
        "\n",
        "- Cài đặt sGA (simple Generic Algorithm) theo bản cài đặt POPOP với tournament selection $s = 4$, xác suất lai ghép $100%$ và không sử dụng đột biến.\n",
        "\n",
        "- Kích thước vấn đề (problem size) $l$ là số biến của vấn đề. Ví dụ:\n",
        "    + OneMax $l = 40$ là vấn đề có 40 biến nhị phân.\n",
        "    + Trap $k = 5$ với $l = 20$ là vấn đề có $20$ biến nhị phân, được tạo nên bởi kết nối $4$ hàm Trap $k=5$ lại với nhau."
      ]
    },
    {
      "cell_type": "markdown",
      "metadata": {
        "id": "EtLZH1KdR3Bh"
      },
      "source": [
        "## 2. OneMax"
      ]
    },
    {
      "cell_type": "code",
      "metadata": {
        "id": "ttsgRmy5L7DC"
      },
      "source": [
        ""
      ],
      "execution_count": null,
      "outputs": []
    }
  ]
}